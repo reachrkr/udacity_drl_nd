{
 "cells": [
  {
   "cell_type": "markdown",
   "metadata": {},
   "source": [
    "# Collaboration and Competition\n",
    "\n",
    "---\n",
    "\n",
    "You are welcome to use this coding environment to train your agent for the project.  Follow the instructions below to get started!\n",
    "\n",
    "### 1. Start the Environment\n",
    "\n",
    "Run the next code cell to install a few packages.  This line will take a few minutes to run!"
   ]
  },
  {
   "cell_type": "code",
   "execution_count": 1,
   "metadata": {},
   "outputs": [
    {
     "name": "stdout",
     "output_type": "stream",
     "text": [
      "\u001b[31mtensorflow 1.7.1 has requirement numpy>=1.13.3, but you'll have numpy 1.12.1 which is incompatible.\u001b[0m\r\n",
      "\u001b[31mipython 6.5.0 has requirement prompt-toolkit<2.0.0,>=1.0.15, but you'll have prompt-toolkit 3.0.30 which is incompatible.\u001b[0m\r\n",
      "\u001b[31mjupyter-console 6.4.3 has requirement jupyter-client>=7.0.0, but you'll have jupyter-client 5.2.4 which is incompatible.\u001b[0m\r\n"
     ]
    }
   ],
   "source": [
    "!pip -q install ./python"
   ]
  },
  {
   "cell_type": "markdown",
   "metadata": {},
   "source": [
    "The environment is already saved in the Workspace and can be accessed at the file path provided below. "
   ]
  },
  {
   "cell_type": "code",
   "execution_count": 2,
   "metadata": {},
   "outputs": [
    {
     "name": "stderr",
     "output_type": "stream",
     "text": [
      "INFO:unityagents:\n",
      "'Academy' started successfully!\n",
      "Unity Academy name: Academy\n",
      "        Number of Brains: 1\n",
      "        Number of External Brains : 1\n",
      "        Lesson number : 0\n",
      "        Reset Parameters :\n",
      "\t\t\n",
      "Unity brain name: TennisBrain\n",
      "        Number of Visual Observations (per agent): 0\n",
      "        Vector Observation space type: continuous\n",
      "        Vector Observation space size (per agent): 8\n",
      "        Number of stacked Vector Observation: 3\n",
      "        Vector Action space type: continuous\n",
      "        Vector Action space size (per agent): 2\n",
      "        Vector Action descriptions: , \n"
     ]
    }
   ],
   "source": [
    "from unityagents import UnityEnvironment\n",
    "import numpy as np\n",
    "\n",
    "env = UnityEnvironment(file_name=\"/data/Tennis_Linux_NoVis/Tennis\")"
   ]
  },
  {
   "cell_type": "markdown",
   "metadata": {},
   "source": [
    "Environments contain **_brains_** which are responsible for deciding the actions of their associated agents. Here we check for the first brain available, and set it as the default brain we will be controlling from Python."
   ]
  },
  {
   "cell_type": "code",
   "execution_count": 3,
   "metadata": {},
   "outputs": [],
   "source": [
    "# get the default brain\n",
    "brain_name = env.brain_names[0]\n",
    "brain = env.brains[brain_name]"
   ]
  },
  {
   "cell_type": "markdown",
   "metadata": {},
   "source": [
    "### 2. Examine the State and Action Spaces\n",
    "\n",
    "Run the code cell below to print some information about the environment."
   ]
  },
  {
   "cell_type": "code",
   "execution_count": 4,
   "metadata": {},
   "outputs": [
    {
     "name": "stdout",
     "output_type": "stream",
     "text": [
      "Number of agents: 2\n",
      "Size of each action: 2\n",
      "There are 2 agents. Each observes a state with length: 24\n",
      "The state for the first agent looks like: [ 0.          0.          0.          0.          0.          0.          0.\n",
      "  0.          0.          0.          0.          0.          0.          0.\n",
      "  0.          0.         -6.65278625 -1.5        -0.          0.\n",
      "  6.83172083  6.         -0.          0.        ]\n"
     ]
    }
   ],
   "source": [
    "# reset the environment\n",
    "env_info = env.reset(train_mode=True)[brain_name]\n",
    "\n",
    "# number of agents \n",
    "num_agents = len(env_info.agents)\n",
    "print('Number of agents:', num_agents)\n",
    "\n",
    "# size of each action\n",
    "action_size = brain.vector_action_space_size\n",
    "print('Size of each action:', action_size)\n",
    "\n",
    "# examine the state space \n",
    "states = env_info.vector_observations\n",
    "state_size = states.shape[1]\n",
    "print('There are {} agents. Each observes a state with length: {}'.format(states.shape[0], state_size))\n",
    "print('The state for the first agent looks like:', states[0])"
   ]
  },
  {
   "cell_type": "markdown",
   "metadata": {},
   "source": [
    "### 3. Take Random Actions in the Environment\n",
    "\n",
    "In the next code cell, you will learn how to use the Python API to control the agent and receive feedback from the environment.\n",
    "\n",
    "Note that **in this coding environment, you will not be able to watch the agents while they are training**, and you should set `train_mode=True` to restart the environment."
   ]
  },
  {
   "cell_type": "code",
   "execution_count": 5,
   "metadata": {},
   "outputs": [
    {
     "name": "stdout",
     "output_type": "stream",
     "text": [
      "Total score (averaged over agents) this episode: -0.004999999888241291\n",
      "Total score (averaged over agents) this episode: -0.004999999888241291\n",
      "Total score (averaged over agents) this episode: -0.004999999888241291\n",
      "Total score (averaged over agents) this episode: -0.004999999888241291\n",
      "Total score (averaged over agents) this episode: -0.004999999888241291\n"
     ]
    }
   ],
   "source": [
    "for i in range(5):                                         # play game for 5 episodes\n",
    "    env_info = env.reset(train_mode=False)[brain_name]     # reset the environment    \n",
    "    states = env_info.vector_observations                  # get the current state (for each agent)\n",
    "    scores = np.zeros(num_agents)                          # initialize the score (for each agent)\n",
    "    while True:\n",
    "        actions = np.random.randn(num_agents, action_size) # select an action (for each agent)\n",
    "        actions = np.clip(actions, -1, 1)                  # all actions between -1 and 1\n",
    "        env_info = env.step(actions)[brain_name]           # send all actions to tne environment\n",
    "        next_states = env_info.vector_observations         # get next state (for each agent)\n",
    "        rewards = env_info.rewards                         # get reward (for each agent)\n",
    "        dones = env_info.local_done                        # see if episode finished\n",
    "        scores += env_info.rewards                         # update the score (for each agent)\n",
    "        states = next_states                               # roll over states to next time step\n",
    "        if np.any(dones):                                  # exit loop if episode finished\n",
    "            break\n",
    "    print('Total score (averaged over agents) this episode: {}'.format(np.mean(scores)))"
   ]
  },
  {
   "cell_type": "markdown",
   "metadata": {},
   "source": [
    "When finished, you can close the environment."
   ]
  },
  {
   "cell_type": "code",
   "execution_count": 6,
   "metadata": {},
   "outputs": [],
   "source": [
    "#env.close()"
   ]
  },
  {
   "cell_type": "markdown",
   "metadata": {},
   "source": [
    "### 4. It's Your Turn!\n",
    "\n",
    "Now it's your turn to train your own agent to solve the environment!  A few **important notes**:\n",
    "- When training the environment, set `train_mode=True`, so that the line for resetting the environment looks like the following:\n",
    "```python\n",
    "env_info = env.reset(train_mode=True)[brain_name]\n",
    "```\n",
    "- To structure your work, you're welcome to work directly in this Jupyter notebook, or you might like to start over with a new file!  You can see the list of files in the workspace by clicking on **_Jupyter_** in the top left corner of the notebook.\n",
    "- In this coding environment, you will not be able to watch the agents while they are training.  However, **_after training the agents_**, you can download the saved model weights to watch the agents on your own machine! "
   ]
  },
  {
   "cell_type": "markdown",
   "metadata": {},
   "source": [
    "\n",
    "\n",
    "#### 1. Load agent and set up environment\n"
   ]
  },
  {
   "cell_type": "code",
   "execution_count": 7,
   "metadata": {},
   "outputs": [],
   "source": [
    "import random\n",
    "import torch\n",
    "import numpy as np\n",
    "from collections import deque\n",
    "import maddpg\n",
    "import matplotlib.pyplot as plt\n",
    "%matplotlib inline"
   ]
  },
  {
   "cell_type": "markdown",
   "metadata": {},
   "source": [
    "#### 2. Setup paramaters"
   ]
  },
  {
   "cell_type": "code",
   "execution_count": 8,
   "metadata": {},
   "outputs": [],
   "source": [
    "class Parameters:\n",
    "    def __init__(self):\n",
    "        pass\n",
    "    \n",
    "param = Parameters()\n",
    "\n",
    "param.num_agents = num_agents\n",
    "param.state_size = 24\n",
    "param.action_size = 2\n",
    "param.random_seed = 222\n",
    "param.buffer_size = int(1e5)  # replay buffer size\n",
    "param.batch_size = 128        # minibatch size\n",
    "param.gamma = 0.99            # discount factor\n",
    "param.tau = 1e-3              # for soft update of target parameters\n",
    "param.lr_actor = 1e-4 #2e-4         # learning rate of the actor # ADDED\n",
    "param.lr_critic = 1e-4 #2e-4        # learning rate of the critic # ADDED\n",
    "param.weight_decay = 0        # L2 weight decay\n",
    "param.print_every = 100\n",
    "param.device = torch.device(\"cuda:0\" if torch.cuda.is_available() else \"cpu\")\n",
    "\n",
    "\n",
    "maddpg = maddpg.MADDPG(param)"
   ]
  },
  {
   "cell_type": "markdown",
   "metadata": {},
   "source": [
    "#### 3. Train the Agents with MADDPG"
   ]
  },
  {
   "cell_type": "code",
   "execution_count": 9,
   "metadata": {},
   "outputs": [],
   "source": [
    "def train_maddpg(n_episodes = 50000):\n",
    "    scores = []\n",
    "    scores_deque = deque(maxlen = 100)\n",
    "    avg_scores = []\n",
    "    for iteration in range(1, n_episodes + 1):\n",
    "        env_info = env.reset(train_mode = True)[brain_name]\n",
    "        states = env_info.vector_observations\n",
    "        maddpg.reset()\n",
    "        score = np.zeros(param.num_agents)\n",
    "        while True:\n",
    "            actions = maddpg.act(states)\n",
    "            env_info = env.step(actions)[brain_name]\n",
    "            next_states = env_info.vector_observations\n",
    "            rewards = env_info.rewards\n",
    "            dones = env_info.local_done\n",
    "            maddpg.step(states, actions, rewards, next_states, dones)\n",
    "            score += rewards\n",
    "            states = next_states\n",
    "            if np.any(dones): break\n",
    "        max_score = np.max(score)\n",
    "        scores.append(max_score)\n",
    "        scores_deque.append(max_score)\n",
    "        avg_score = np.mean(scores_deque) \n",
    "        avg_scores.append(avg_score)\n",
    "        print('\\rEpisode {}\\tAverage Score: {:.4f}'.format(iteration, avg_score), end=\"\")\n",
    "        if iteration % param.print_every == 0:\n",
    "            print('\\rEpisode {}\\tAverage Score: {:.4f}'.format(iteration, avg_score))\n",
    "            maddpg.save_weights()\n",
    "        if avg_score >= 0.5:\n",
    "            print('\\nEnvironment solved in {:d} episodes!\\tAverage Score: {:.4f}'.format(iteration, avg_score))\n",
    "            maddpg.save_weights()\n",
    "            break\n",
    "    return scores, avg_scores"
   ]
  },
  {
   "cell_type": "code",
   "execution_count": 10,
   "metadata": {},
   "outputs": [
    {
     "name": "stdout",
     "output_type": "stream",
     "text": [
      "Episode 100\tAverage Score: 0.0000\n",
      "Episode 200\tAverage Score: 0.0070\n",
      "Episode 300\tAverage Score: 0.0158\n",
      "Episode 400\tAverage Score: 0.0000\n",
      "Episode 500\tAverage Score: 0.0054\n",
      "Episode 600\tAverage Score: 0.0222\n",
      "Episode 700\tAverage Score: 0.0412\n",
      "Episode 800\tAverage Score: 0.0576\n",
      "Episode 900\tAverage Score: 0.0479\n",
      "Episode 1000\tAverage Score: 0.0422\n",
      "Episode 1100\tAverage Score: 0.0549\n",
      "Episode 1200\tAverage Score: 0.0796\n",
      "Episode 1300\tAverage Score: 0.1232\n",
      "Episode 1400\tAverage Score: 0.1626\n",
      "Episode 1475\tAverage Score: 0.5226\n",
      "Environment solved in 1475 episodes!\tAverage Score: 0.5226\n"
     ]
    }
   ],
   "source": [
    "scores, avg_scores = train_maddpg()"
   ]
  },
  {
   "cell_type": "code",
   "execution_count": 11,
   "metadata": {},
   "outputs": [
    {
     "data": {
      "image/png": "[encoded data removed]",
      "text/plain": [
       "<matplotlib.figure.Figure at 0x7f2e5b7065f8>"
      ]
     },
     "metadata": {
      "needs_background": "light"
     },
     "output_type": "display_data"
    }
   ],
   "source": [
    "# Plot the scores\n",
    "fig = plt.figure(figsize=(8, 8))\n",
    "ax = fig.add_subplot(111)\n",
    "plt.plot(np.arange(1, len(scores)+1), scores, label='score')\n",
    "plt.plot(np.arange(1, len(avg_scores)+1), avg_scores, label='avg score')\n",
    "plt.title('Scores vs. Episode')\n",
    "plt.ylabel('Scores')\n",
    "plt.xlabel('Episode')\n",
    "plt.grid(True)      \n",
    "plt.show()"
   ]
  },
  {
   "cell_type": "markdown",
   "metadata": {},
   "source": [
    "#### 4. Evaluate the trained agent\n",
    "Load the saved weights and see a trained agent in action"
   ]
  },
  {
   "cell_type": "code",
   "execution_count": 12,
   "metadata": {},
   "outputs": [],
   "source": [
    "maddpg.load_weights()"
   ]
  },
  {
   "cell_type": "code",
   "execution_count": 13,
   "metadata": {},
   "outputs": [
    {
     "name": "stdout",
     "output_type": "stream",
     "text": [
      "Episode 1\tScore: 0.3000\n",
      "Episode 2\tScore: 2.4000\n",
      "Episode 3\tScore: 2.6000\n",
      "Episode 4\tScore: 1.9000\n",
      "Episode 5\tScore: 1.5000\n",
      "Episode 6\tScore: 1.2000\n",
      "Episode 7\tScore: 0.1000\n",
      "Episode 8\tScore: 2.6000\n",
      "Episode 9\tScore: 2.2000\n",
      "Episode 10\tScore: 2.6000\n",
      "Episode 11\tScore: 1.1000\n",
      "Episode 12\tScore: 2.6000\n",
      "Episode 13\tScore: 0.0000\n",
      "Episode 14\tScore: 2.6000\n",
      "Episode 15\tScore: 0.0000\n",
      "Episode 16\tScore: 0.5000\n",
      "Episode 17\tScore: 2.6000\n",
      "Episode 18\tScore: 2.2000\n",
      "Episode 19\tScore: 0.6000\n",
      "Episode 20\tScore: 2.6000\n",
      "Episode 21\tScore: 2.7000\n",
      "Episode 22\tScore: 2.6000\n",
      "Episode 23\tScore: 2.7000\n",
      "Episode 24\tScore: 2.6000\n",
      "Episode 25\tScore: 2.7000\n",
      "Episode 26\tScore: 2.7000\n",
      "Episode 27\tScore: 2.6000\n",
      "Episode 28\tScore: 1.4000\n",
      "Episode 29\tScore: 2.6000\n",
      "Episode 30\tScore: 2.7000\n",
      "Episode 31\tScore: 2.6000\n",
      "Episode 32\tScore: 1.4000\n",
      "Episode 33\tScore: 2.6000\n",
      "Episode 34\tScore: 2.7000\n",
      "Episode 35\tScore: 2.6000\n",
      "Episode 36\tScore: 2.7000\n",
      "Episode 37\tScore: 2.6000\n",
      "Episode 38\tScore: 2.7000\n",
      "Episode 39\tScore: 0.2000\n",
      "Episode 40\tScore: 2.6000\n",
      "Episode 41\tScore: 0.5000\n",
      "Episode 42\tScore: 1.8000\n",
      "Episode 43\tScore: 2.5000\n",
      "Episode 44\tScore: 2.6000\n",
      "Episode 45\tScore: 0.5000\n",
      "Episode 46\tScore: 0.8000\n",
      "Episode 47\tScore: 2.3000\n",
      "Episode 48\tScore: 2.6000\n",
      "Episode 49\tScore: 0.2000\n",
      "Episode 50\tScore: 0.4000\n",
      "Episode 51\tScore: 0.9000\n",
      "Episode 52\tScore: 1.3000\n",
      "Episode 53\tScore: 0.0000\n",
      "Episode 54\tScore: 1.1000\n",
      "Episode 55\tScore: 2.6000\n",
      "Episode 56\tScore: 2.7000\n",
      "Episode 57\tScore: 2.6000\n",
      "Episode 58\tScore: 2.7000\n",
      "Episode 59\tScore: 0.1000\n",
      "Episode 60\tScore: 0.2000\n",
      "Episode 61\tScore: 2.3000\n",
      "Episode 62\tScore: 0.7000\n",
      "Episode 63\tScore: 0.4000\n",
      "Episode 64\tScore: 0.6000\n",
      "Episode 65\tScore: 1.2000\n",
      "Episode 66\tScore: 0.1000\n",
      "Episode 67\tScore: 0.8000\n",
      "Episode 68\tScore: 0.8000\n",
      "Episode 69\tScore: 0.1000\n",
      "Episode 70\tScore: 0.3000\n",
      "Episode 71\tScore: 0.4000\n",
      "Episode 72\tScore: 2.3000\n",
      "Episode 73\tScore: 2.6000\n",
      "Episode 74\tScore: 1.0000\n",
      "Episode 75\tScore: 1.8000\n",
      "Episode 76\tScore: 2.1000\n",
      "Episode 77\tScore: 2.6000\n",
      "Episode 78\tScore: 1.8000\n",
      "Episode 79\tScore: 0.1000\n",
      "Episode 80\tScore: 0.5000\n",
      "Episode 81\tScore: 0.2000\n",
      "Episode 82\tScore: 2.6000\n",
      "Episode 83\tScore: 0.2000\n",
      "Episode 84\tScore: 2.6000\n",
      "Episode 85\tScore: 1.9000\n",
      "Episode 86\tScore: 2.6000\n",
      "Episode 87\tScore: 0.1000\n",
      "Episode 88\tScore: 0.4000\n",
      "Episode 89\tScore: 0.1000\n",
      "Episode 90\tScore: 1.1000\n",
      "Episode 91\tScore: 2.0000\n",
      "Episode 92\tScore: 2.6000\n",
      "Episode 93\tScore: 0.1000\n",
      "Episode 94\tScore: 0.0000\n",
      "Episode 95\tScore: 2.6000\n",
      "Episode 96\tScore: 2.7000\n",
      "Episode 97\tScore: 1.1000\n",
      "Episode 98\tScore: 0.6000\n",
      "Episode 99\tScore: 2.6000\n",
      "Episode 100\tScore: 2.6000\n"
     ]
    }
   ],
   "source": [
    "n_episodes = 100\n",
    "eps = 0.\n",
    "test_scores = []\n",
    "for i_episode in range(1, n_episodes+1):\n",
    "    env_info = env.reset(train_mode = False)[brain_name] # reset the environment\n",
    "    states = env_info.vector_observations              # get the current state\n",
    "    maddpg.reset()\n",
    "    scores = np.zeros(param.num_agents)\n",
    "    while True:\n",
    "        actions = maddpg.act(states)\n",
    "        env_info = env.step(actions)[brain_name]        # send the action to the environment\n",
    "        next_states = env_info.vector_observations   # get the next state\n",
    "        rewards = env_info.rewards                   # get the reward\n",
    "        dones = env_info.local_done                  # see if episode has finished\n",
    "        maddpg.step(states, actions, rewards, next_states, dones) # learning step\n",
    "        scores += rewards                                # update the score\n",
    "        states = next_states                             # roll over the state to next time step\n",
    "        if np.any(dones): break                                 # exit loop if episode finished\n",
    "    max_score = np.max(scores)\n",
    "    test_scores.append(max_score)              # save most recent score\n",
    "    print('Episode {}\\tScore: {:.4f}'.format(i_episode, max_score))"
   ]
  },
  {
   "cell_type": "code",
   "execution_count": 14,
   "metadata": {},
   "outputs": [
    {
     "data": {
      "image/png": "[encoded data removed]",
      "text/plain": [
       "<matplotlib.figure.Figure at 0x7f2e59500978>"
      ]
     },
     "metadata": {
      "needs_background": "light"
     },
     "output_type": "display_data"
    },
    {
     "name": "stdout",
     "output_type": "stream",
     "text": [
      "Avg Score Over All Episodes - 1.59800002381\n"
     ]
    }
   ],
   "source": [
    "# get scores averages over x episodes\n",
    "averages_test = []\n",
    "score_sum_test = 0\n",
    "i = 1\n",
    "test_episodes_avg = 5\n",
    "for score in test_scores:\n",
    "    score_sum_test+=score\n",
    "    if i%test_episodes_avg == 0:\n",
    "        score_sum_test = score_sum_test/test_episodes_avg\n",
    "        for j in range(0,test_episodes_avg):\n",
    "            averages_test.append(score_sum_test)\n",
    "        score_sum_test=0\n",
    "    i+=1\n",
    "\n",
    "# plot the scores\n",
    "fig = plt.figure()\n",
    "ax = fig.add_subplot(111)\n",
    "plt.plot(np.arange(len(test_scores)), test_scores, label='Score per Episode')\n",
    "plt.plot(np.arange(len(averages_test)), averages_test, label='Avg Score Over ' +str(test_episodes_avg)+ ' Episodes')\n",
    "plt.ylabel('Score')\n",
    "plt.xlabel('Episode #')\n",
    "plt.legend()\n",
    "plt.show()\n",
    "\n",
    "print('Avg Score Over All Episodes - ' + str(sum(averages_test)/len(averages_test)))"
   ]
  },
  {
   "cell_type": "code",
   "execution_count": 15,
   "metadata": {},
   "outputs": [],
   "source": [
    "#Closing environment\n",
    "env.close()"
   ]
  },
  {
   "cell_type": "code",
   "execution_count": null,
   "metadata": {},
   "outputs": [],
   "source": []
  }
 ],
 "metadata": {
  "kernelspec": {
   "display_name": "Python 3",
   "language": "python",
   "name": "python3"
  },
  "language_info": {
   "codemirror_mode": {
    "name": "ipython",
    "version": 3
   },
   "file_extension": ".py",
   "mimetype": "text/x-python",
   "name": "python",
   "nbconvert_exporter": "python",
   "pygments_lexer": "ipython3",
   "version": "3.6.3"
  }
 },
 "nbformat": 4,
 "nbformat_minor": 2
}
