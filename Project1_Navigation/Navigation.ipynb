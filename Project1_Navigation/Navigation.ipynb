{
 "cells": [
  {
   "cell_type": "markdown",
   "metadata": {
    "toc": true
   },
   "source": [
    "<h1>Table of Contents<span class=\"tocSkip\"></span></h1>\n",
    "<div class=\"toc\"><ul class=\"toc-item\"><li><span><a href=\"#Navigation\" data-toc-modified-id=\"Navigation-1\"><span class=\"toc-item-num\">1&nbsp;&nbsp;</span>Navigation</a></span><ul class=\"toc-item\"><li><ul class=\"toc-item\"><li><span><a href=\"#1.-Start-the-Environment\" data-toc-modified-id=\"1.-Start-the-Environment-1.0.1\"><span class=\"toc-item-num\">1.0.1&nbsp;&nbsp;</span>1. Start the Environment</a></span></li><li><span><a href=\"#2.-Examine-the-State-and-Action-Spaces\" data-toc-modified-id=\"2.-Examine-the-State-and-Action-Spaces-1.0.2\"><span class=\"toc-item-num\">1.0.2&nbsp;&nbsp;</span>2. Examine the State and Action Spaces</a></span></li><li><span><a href=\"#3.-Take-Random-Actions-in-the-Environment\" data-toc-modified-id=\"3.-Take-Random-Actions-in-the-Environment-1.0.3\"><span class=\"toc-item-num\">1.0.3&nbsp;&nbsp;</span>3. Take Random Actions in the Environment</a></span></li><li><span><a href=\"#4.-It's-Your-Turn!\" data-toc-modified-id=\"4.-It's-Your-Turn!-1.0.4\"><span class=\"toc-item-num\">1.0.4&nbsp;&nbsp;</span>4. It's Your Turn!</a></span></li></ul></li></ul></li></ul></div>"
   ]
  },
  {
   "cell_type": "markdown",
   "metadata": {},
   "source": [
    "# Navigation\n",
    "\n",
    "---\n",
    "\n",
    "You are welcome to use this coding environment to train your agent for the project.  Follow the instructions below to get started!\n",
    "\n",
    "### 1. Start the Environment\n",
    "\n",
    "Run the next code cell to install a few packages.  This line will take a few minutes to run!"
   ]
  },
  {
   "cell_type": "code",
   "execution_count": 1,
   "metadata": {},
   "outputs": [
    {
     "name": "stdout",
     "output_type": "stream",
     "text": [
      "\u001b[31mtensorflow 1.7.1 has requirement numpy>=1.13.3, but you'll have numpy 1.12.1 which is incompatible.\u001b[0m\r\n",
      "\u001b[31mipython 6.5.0 has requirement prompt-toolkit<2.0.0,>=1.0.15, but you'll have prompt-toolkit 3.0.29 which is incompatible.\u001b[0m\r\n",
      "\u001b[31mjupyter-console 6.4.3 has requirement jupyter-client>=7.0.0, but you'll have jupyter-client 5.2.4 which is incompatible.\u001b[0m\r\n"
     ]
    }
   ],
   "source": [
    "!pip -q install ./python"
   ]
  },
  {
   "cell_type": "markdown",
   "metadata": {},
   "source": [
    "The environment is already saved in the Workspace and can be accessed at the file path provided below.  Please run the next code cell without making any changes."
   ]
  },
  {
   "cell_type": "code",
   "execution_count": 2,
   "metadata": {},
   "outputs": [
    {
     "name": "stderr",
     "output_type": "stream",
     "text": [
      "INFO:unityagents:\n",
      "'Academy' started successfully!\n",
      "Unity Academy name: Academy\n",
      "        Number of Brains: 1\n",
      "        Number of External Brains : 1\n",
      "        Lesson number : 0\n",
      "        Reset Parameters :\n",
      "\t\t\n",
      "Unity brain name: BananaBrain\n",
      "        Number of Visual Observations (per agent): 0\n",
      "        Vector Observation space type: continuous\n",
      "        Vector Observation space size (per agent): 37\n",
      "        Number of stacked Vector Observation: 1\n",
      "        Vector Action space type: discrete\n",
      "        Vector Action space size (per agent): 4\n",
      "        Vector Action descriptions: , , , \n"
     ]
    }
   ],
   "source": [
    "from unityagents import UnityEnvironment\n",
    "import numpy as np\n",
    "\n",
    "import random\n",
    "from collections import namedtuple, deque\n",
    "\n",
    "import torch\n",
    "import torch.nn as nn\n",
    "import torch.nn.functional as F\n",
    "import torch.optim as optim\n",
    "from dqn_agent import Agent\n",
    "\n",
    "import matplotlib.pyplot as plt\n",
    "%matplotlib inline\n",
    "\n",
    "# please do not modify the line below\n",
    "env = UnityEnvironment(file_name=\"/data/Banana_Linux_NoVis/Banana.x86_64\")"
   ]
  },
  {
   "cell_type": "markdown",
   "metadata": {},
   "source": [
    "Environments contain **_brains_** which are responsible for deciding the actions of their associated agents. Here we check for the first brain available, and set it as the default brain we will be controlling from Python."
   ]
  },
  {
   "cell_type": "code",
   "execution_count": 3,
   "metadata": {},
   "outputs": [],
   "source": [
    "# get the default brain\n",
    "brain_name = env.brain_names[0]\n",
    "brain = env.brains[brain_name]"
   ]
  },
  {
   "cell_type": "markdown",
   "metadata": {},
   "source": [
    "### 2. Examine the State and Action Spaces\n",
    "\n",
    "Run the code cell below to print some information about the environment."
   ]
  },
  {
   "cell_type": "code",
   "execution_count": 4,
   "metadata": {},
   "outputs": [
    {
     "name": "stdout",
     "output_type": "stream",
     "text": [
      "Number of agents: 1\n",
      "Number of actions: 4\n",
      "States look like: [ 1.          0.          0.          0.          0.84408134  0.          0.\n",
      "  1.          0.          0.0748472   0.          1.          0.          0.\n",
      "  0.25755     1.          0.          0.          0.          0.74177343\n",
      "  0.          1.          0.          0.          0.25854847  0.          0.\n",
      "  1.          0.          0.09355672  0.          1.          0.          0.\n",
      "  0.31969345  0.          0.        ]\n",
      "States have length: 37\n"
     ]
    }
   ],
   "source": [
    "# reset the environment\n",
    "env_info = env.reset(train_mode=True)[brain_name]\n",
    "\n",
    "# number of agents in the environment\n",
    "print('Number of agents:', len(env_info.agents))\n",
    "\n",
    "# number of actions\n",
    "action_size = brain.vector_action_space_size\n",
    "print('Number of actions:', action_size)\n",
    "\n",
    "# examine the state space \n",
    "state = env_info.vector_observations[0]\n",
    "print('States look like:', state)\n",
    "state_size = len(state)\n",
    "print('States have length:', state_size)"
   ]
  },
  {
   "cell_type": "markdown",
   "metadata": {},
   "source": [
    "### 3. Take Random Actions in the Environment\n",
    "\n",
    "In the next code cell, you will learn how to use the Python API to control the agent and receive feedback from the environment.\n",
    "\n",
    "Note that **in this coding environment, you will not be able to watch the agent while it is training**, and you should set `train_mode=True` to restart the environment."
   ]
  },
  {
   "cell_type": "code",
   "execution_count": 5,
   "metadata": {},
   "outputs": [
    {
     "name": "stdout",
     "output_type": "stream",
     "text": [
      "Score: 0.0\n"
     ]
    }
   ],
   "source": [
    "env_info = env.reset(train_mode=True)[brain_name] # reset the environment\n",
    "state = env_info.vector_observations[0]            # get the current state\n",
    "score = 0                                          # initialize the score\n",
    "while True:\n",
    "    action = np.random.randint(action_size)        # select an action\n",
    "    env_info = env.step(action)[brain_name]        # send the action to the environment\n",
    "    next_state = env_info.vector_observations[0]   # get the next state\n",
    "    reward = env_info.rewards[0]                   # get the reward\n",
    "    done = env_info.local_done[0]                  # see if episode has finished\n",
    "    score += reward                                # update the score\n",
    "    state = next_state                             # roll over the state to next time step\n",
    "    if done:                                       # exit loop if episode finished\n",
    "        break\n",
    "    \n",
    "print(\"Score: {}\".format(score))"
   ]
  },
  {
   "cell_type": "markdown",
   "metadata": {},
   "source": [
    "When finished, you can close the environment."
   ]
  },
  {
   "cell_type": "code",
   "execution_count": 6,
   "metadata": {},
   "outputs": [],
   "source": [
    "#env.close()"
   ]
  },
  {
   "cell_type": "markdown",
   "metadata": {},
   "source": [
    "### 4. It's Your Turn!\n",
    "\n",
    "Now it's your turn to train your own agent to solve the environment!  A few **important notes**:\n",
    "- When training the environment, set `train_mode=True`, so that the line for resetting the environment looks like the following:\n",
    "```python\n",
    "env_info = env.reset(train_mode=True)[brain_name]\n",
    "```\n",
    "- To structure your work, you're welcome to work directly in this Jupyter notebook, or you might like to start over with a new file!  You can see the list of files in the workspace by clicking on **_Jupyter_** in the top left corner of the notebook.\n",
    "- In this coding environment, you will not be able to watch the agent while it is training.  However, **_after training the agent_**, you can download the saved model weights to watch the agent on your own machine! "
   ]
  },
  {
   "cell_type": "code",
   "execution_count": 7,
   "metadata": {},
   "outputs": [],
   "source": [
    "def DQN(n_episodes=1500, max_t=1000, eps_start=1.0, eps_end=0.1, eps_decay=0.995):\n",
    "    \"\"\"Deep Q-Learning.\n",
    "    \n",
    "    Params\n",
    "    ======\n",
    "        n_episodes (int): maximum number of training episodes\n",
    "        max_t (int): maximum number of timesteps per episode\n",
    "        eps_start (float): starting value of epsilon, for epsilon-greedy action selection\n",
    "        eps_end (float): minimum value of epsilon\n",
    "        eps_decay (float): multiplicative factor (per episode) for decreasing epsilon\n",
    "    \"\"\"\n",
    "    # Part of the code is taken from the lectures\n",
    "    scores = []                        # list containing scores from each episode\n",
    "    scores_window = deque(maxlen=100)  # last 100 scores\n",
    "    epsilon = eps_start                    # initialize epsilon\n",
    "    \n",
    "    for i_episode in range(1, n_episodes+1):\n",
    "        env_info = env.reset(train_mode=True)[brain_name] #Reset the enviorment with training mode\n",
    "        state = env_info.vector_observations[0] #define state\n",
    "        score = 0 # collect the reward in score variable\n",
    "        for t in range(max_t):\n",
    "            action = agent.act(state, epsilon)\n",
    "            env_info = env.step(action)[brain_name]        # send the action to the environment\n",
    "            next_state = env_info.vector_observations[0]   # access the next state\n",
    "            reward = env_info.rewards[0]                   # ccess the current reward\n",
    "            done = env_info.local_done[0]                  # check if terminal state is T/F.\n",
    "            agent.step(state, action, reward, next_state, done) \n",
    "            state = next_state \n",
    "            score += reward  # add reward to the score\n",
    "            if done: #terminate the loop if terminal state\n",
    "                break \n",
    "                \n",
    "        scores_window.append(score)       # save most recent score\n",
    "        scores.append(score)              # save most recent score\n",
    "        epsilon = max(eps_end, eps_decay*epsilon) # decrease epsilon\n",
    "        print('\\rEpisode {}\\tAverage Score: {:.2f}'.format(i_episode, np.mean(scores_window)), end=\"\")\n",
    "        \n",
    "        if i_episode % 100 == 0:\n",
    "            print('\\rEpisode {}\\tAverage Score: {:.2f}'.format(i_episode, np.mean(scores_window)))\n",
    "        if np.mean(scores_window)>=13.0:\n",
    "            print('\\nEnvironment solved in {:d} episodes!\\tAverage Score: {:.2f}'.format(i_episode-100, np.mean(scores_window)))\n",
    "            torch.save(agent.qnetwork_local.state_dict(), 'checkpoint.pth')\n",
    "            break\n",
    "            \n",
    "    return scores"
   ]
  },
  {
   "cell_type": "code",
   "execution_count": 8,
   "metadata": {},
   "outputs": [
    {
     "name": "stdout",
     "output_type": "stream",
     "text": [
      "Episode 100\tAverage Score: 1.05\n",
      "Episode 200\tAverage Score: 5.27\n",
      "Episode 300\tAverage Score: 7.05\n",
      "Episode 400\tAverage Score: 10.81\n",
      "Episode 464\tAverage Score: 13.03\n",
      "Environment solved in 364 episodes!\tAverage Score: 13.03\n"
     ]
    }
   ],
   "source": [
    "#Define agent\n",
    "agent = Agent(state_size=state_size, action_size=action_size, seed=0)\n",
    "\n",
    "#Train \n",
    "scores = DQN()\n"
   ]
  },
  {
   "cell_type": "code",
   "execution_count": 9,
   "metadata": {},
   "outputs": [
    {
     "data": {
      "image/png": "[encoded data removed]",
      "text/plain": [
       "<matplotlib.figure.Figure at 0x7feeedb5d5f8>"
      ]
     },
     "metadata": {
      "needs_background": "light"
     },
     "output_type": "display_data"
    }
   ],
   "source": [
    "import matplotlib.pyplot as plt\n",
    "\n",
    "# get scores averages over x episodes\n",
    "averages_num = []\n",
    "averages_100 = []\n",
    "score_sum = 0\n",
    "score_sum_100 = 0\n",
    "i = 1\n",
    "x_episodes = 25\n",
    "for score in scores:\n",
    "    score_sum+=score\n",
    "    score_sum_100+=score\n",
    "    if i%x_episodes == 0:\n",
    "        score_sum = score_sum/x_episodes\n",
    "        for j in range(0,x_episodes):\n",
    "            averages_num.append(score_sum)\n",
    "        if i%100 == 0:\n",
    "            score_sum_100 = score_sum_100/100\n",
    "            for j in range(0,100):\n",
    "                averages_100.append(score_sum_100)\n",
    "            score_sum_100 = 0\n",
    "        score_sum=0\n",
    "    i+=1\n",
    "\n",
    "# plot the scores\n",
    "fig = plt.figure()\n",
    "ax = fig.add_subplot(111)\n",
    "plt.plot(np.arange(len(scores)), scores, label='Score per Episode')\n",
    "plt.plot(np.arange(len(averages_num)), averages_num, label='Avg Score Over ' +str(x_episodes)+ ' Episodes')\n",
    "plt.plot(np.arange(len(averages_100)), averages_100, label='Avg Score Over 100 Episodes')\n",
    "plt.ylabel('Score')\n",
    "plt.xlabel('Episode #')\n",
    "plt.legend()\n",
    "plt.show()"
   ]
  },
  {
   "cell_type": "code",
   "execution_count": 10,
   "metadata": {},
   "outputs": [],
   "source": [
    "#Watch the agent play\n",
    "#Define agent\n",
    "agent = Agent(state_size=state_size, action_size=action_size, seed=0)"
   ]
  },
  {
   "cell_type": "code",
   "execution_count": 11,
   "metadata": {},
   "outputs": [],
   "source": [
    "agent.qnetwork_local.load_state_dict(torch.load('checkpoint.pth'))"
   ]
  },
  {
   "cell_type": "code",
   "execution_count": 12,
   "metadata": {},
   "outputs": [
    {
     "name": "stdout",
     "output_type": "stream",
     "text": [
      "Episode: 1 Score: 16.0\n",
      "Episode: 2 Score: 0.0\n",
      "Episode: 3 Score: 15.0\n",
      "Episode: 4 Score: 15.0\n",
      "Episode: 5 Score: 15.0\n",
      "Episode: 6 Score: 21.0\n",
      "Episode: 7 Score: 24.0\n",
      "Episode: 8 Score: 15.0\n",
      "Episode: 9 Score: 3.0\n",
      "Episode: 10 Score: 3.0\n",
      "Episode: 11 Score: 17.0\n",
      "Episode: 12 Score: 21.0\n",
      "Episode: 13 Score: 20.0\n",
      "Episode: 14 Score: 18.0\n",
      "Episode: 15 Score: 15.0\n",
      "Episode: 16 Score: 9.0\n",
      "Episode: 17 Score: 19.0\n",
      "Episode: 18 Score: 7.0\n",
      "Episode: 19 Score: 10.0\n",
      "Episode: 20 Score: 14.0\n",
      "Episode: 21 Score: 1.0\n",
      "Episode: 22 Score: 10.0\n",
      "Episode: 23 Score: 19.0\n",
      "Episode: 24 Score: 6.0\n",
      "Episode: 25 Score: 22.0\n",
      "Episode: 26 Score: 15.0\n",
      "Episode: 27 Score: 19.0\n",
      "Episode: 28 Score: 19.0\n",
      "Episode: 29 Score: 16.0\n",
      "Episode: 30 Score: 17.0\n",
      "Episode: 31 Score: 19.0\n",
      "Episode: 32 Score: 22.0\n",
      "Episode: 33 Score: 13.0\n",
      "Episode: 34 Score: 16.0\n",
      "Episode: 35 Score: 18.0\n",
      "Episode: 36 Score: 13.0\n",
      "Episode: 37 Score: 11.0\n",
      "Episode: 38 Score: 8.0\n",
      "Episode: 39 Score: 5.0\n",
      "Episode: 40 Score: 8.0\n",
      "Episode: 41 Score: 19.0\n",
      "Episode: 42 Score: 20.0\n",
      "Episode: 43 Score: 19.0\n",
      "Episode: 44 Score: 2.0\n",
      "Episode: 45 Score: 19.0\n",
      "Episode: 46 Score: 17.0\n",
      "Episode: 47 Score: 14.0\n",
      "Episode: 48 Score: 23.0\n",
      "Episode: 49 Score: 9.0\n",
      "Episode: 50 Score: 15.0\n",
      "Episode: 51 Score: 18.0\n",
      "Episode: 52 Score: 21.0\n",
      "Episode: 53 Score: 4.0\n",
      "Episode: 54 Score: 17.0\n",
      "Episode: 55 Score: 14.0\n",
      "Episode: 56 Score: 23.0\n",
      "Episode: 57 Score: 13.0\n",
      "Episode: 58 Score: 19.0\n",
      "Episode: 59 Score: 9.0\n",
      "Episode: 60 Score: 21.0\n",
      "Episode: 61 Score: 0.0\n",
      "Episode: 62 Score: 16.0\n",
      "Episode: 63 Score: 13.0\n",
      "Episode: 64 Score: 6.0\n",
      "Episode: 65 Score: 23.0\n",
      "Episode: 66 Score: 15.0\n",
      "Episode: 67 Score: 18.0\n",
      "Episode: 68 Score: 18.0\n",
      "Episode: 69 Score: 22.0\n",
      "Episode: 70 Score: 14.0\n",
      "Episode: 71 Score: 20.0\n",
      "Episode: 72 Score: 25.0\n",
      "Episode: 73 Score: 14.0\n",
      "Episode: 74 Score: 12.0\n",
      "Episode: 75 Score: 2.0\n",
      "Episode: 76 Score: 21.0\n",
      "Episode: 77 Score: 17.0\n",
      "Episode: 78 Score: 20.0\n",
      "Episode: 79 Score: 16.0\n",
      "Episode: 80 Score: 15.0\n",
      "Episode: 81 Score: 15.0\n",
      "Episode: 82 Score: 19.0\n",
      "Episode: 83 Score: 0.0\n",
      "Episode: 84 Score: 17.0\n",
      "Episode: 85 Score: 20.0\n",
      "Episode: 86 Score: 20.0\n",
      "Episode: 87 Score: 22.0\n",
      "Episode: 88 Score: 20.0\n",
      "Episode: 89 Score: 5.0\n",
      "Episode: 90 Score: 9.0\n",
      "Episode: 91 Score: 15.0\n",
      "Episode: 92 Score: 7.0\n",
      "Episode: 93 Score: 6.0\n",
      "Episode: 94 Score: 3.0\n",
      "Episode: 95 Score: 14.0\n",
      "Episode: 96 Score: 12.0\n",
      "Episode: 97 Score: 13.0\n",
      "Episode: 98 Score: 14.0\n",
      "Episode: 99 Score: 15.0\n",
      "Episode: 100 Score: 19.0\n"
     ]
    }
   ],
   "source": [
    "#See how the Agent behaves for 100 exposid in the enviroment after being trained.\n",
    "max_t = 1000\n",
    "scores_test = []\n",
    "\n",
    "test_episodes = 100\n",
    "for episode in range(test_episodes):\n",
    "    env_info = env.reset(train_mode=False)[brain_name]\n",
    "    state = env_info.vector_observations[0]   # get the next state\n",
    "    score = 0\n",
    "    for t in range(max_t):\n",
    "        \n",
    "        action = agent.act(state)\n",
    "        env_info = env.step(action)[brain_name]\n",
    "\n",
    "        state = env_info.vector_observations[0]   # get the next state\n",
    "        reward = env_info.rewards[0]                   # get the reward\n",
    "        done = env_info.local_done[0]\n",
    "        score += reward\n",
    "        if done:\n",
    "            break \n",
    "    scores_test.append(score)\n",
    "    print(\"Episode: \" + str(episode+1) + \" Score: \" + str(score))"
   ]
  },
  {
   "cell_type": "code",
   "execution_count": 13,
   "metadata": {},
   "outputs": [
    {
     "data": {
      "image/png": "[encoded data removed]",
      "text/plain": [
       "<matplotlib.figure.Figure at 0x7feeeda9aa90>"
      ]
     },
     "metadata": {
      "needs_background": "light"
     },
     "output_type": "display_data"
    }
   ],
   "source": [
    "import matplotlib.pyplot as plt\n",
    "\n",
    "# get scores averages over x episodes\n",
    "averages_test = []\n",
    "score_sum_test = 0\n",
    "i = 1\n",
    "test_episodes_avg = 5\n",
    "for score in scores_test:\n",
    "    score_sum_test+=score\n",
    "    if i%test_episodes_avg == 0:\n",
    "        score_sum_test = score_sum_test/test_episodes_avg\n",
    "        for j in range(0,test_episodes_avg):\n",
    "            averages_test.append(score_sum_test)\n",
    "        score_sum_test=0\n",
    "    i+=1\n",
    "\n",
    "# plot the scores\n",
    "fig = plt.figure()\n",
    "ax = fig.add_subplot(111)\n",
    "plt.plot(np.arange(len(scores_test)), scores_test, label='Score per Episode')\n",
    "plt.plot(np.arange(len(averages_test)), averages_test, label='Avg Score Over ' +str(test_episodes_avg)+ ' Episodes')\n",
    "plt.ylabel('Score')\n",
    "plt.xlabel('Episode #')\n",
    "plt.legend()\n",
    "plt.show()"
   ]
  },
  {
   "cell_type": "code",
   "execution_count": 14,
   "metadata": {},
   "outputs": [],
   "source": [
    "env.close() #close the enviorment"
   ]
  },
  {
   "cell_type": "code",
   "execution_count": null,
   "metadata": {},
   "outputs": [],
   "source": []
  }
 ],
 "metadata": {
  "kernelspec": {
   "display_name": "Python 3",
   "language": "python",
   "name": "python3"
  },
  "language_info": {
   "codemirror_mode": {
    "name": "ipython",
    "version": 3
   },
   "file_extension": ".py",
   "mimetype": "text/x-python",
   "name": "python",
   "nbconvert_exporter": "python",
   "pygments_lexer": "ipython3",
   "version": "3.6.13"
  },
  "toc": {
   "base_numbering": 1,
   "nav_menu": {},
   "number_sections": true,
   "sideBar": true,
   "skip_h1_title": false,
   "title_cell": "Table of Contents",
   "title_sidebar": "Contents",
   "toc_cell": true,
   "toc_position": {},
   "toc_section_display": true,
   "toc_window_display": false
  }
 },
 "nbformat": 4,
 "nbformat_minor": 2
}
