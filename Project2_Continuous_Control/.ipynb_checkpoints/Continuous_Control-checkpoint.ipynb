{
 "cells": [
  {
   "cell_type": "markdown",
   "metadata": {},
   "source": [
    "# Continuous Control\n",
    "\n",
    "---\n",
    "\n",
    "In this notebook, you will learn how to use the Unity ML-Agents environment for the second project of the [Deep Reinforcement Learning Nanodegree](https://www.udacity.com/course/deep-reinforcement-learning-nanodegree--nd893) program.\n",
    "\n",
    "### 1. Start the Environment\n",
    "Run the next code cell to install a few packages.  This line will take a few minutes to run!"
   ]
  },
  {
   "cell_type": "code",
   "execution_count": 1,
   "metadata": {},
   "outputs": [
    {
     "name": "stdout",
     "output_type": "stream",
     "text": [
      "\u001b[31mtensorflow 1.7.1 has requirement numpy>=1.13.3, but you'll have numpy 1.12.1 which is incompatible.\u001b[0m\r\n",
      "\u001b[31mipython 6.5.0 has requirement prompt-toolkit<2.0.0,>=1.0.15, but you'll have prompt-toolkit 3.0.30 which is incompatible.\u001b[0m\r\n",
      "\u001b[31mjupyter-console 6.4.3 has requirement jupyter-client>=7.0.0, but you'll have jupyter-client 5.2.4 which is incompatible.\u001b[0m\r\n"
     ]
    }
   ],
   "source": [
    "!pip -q install ./python"
   ]
  },
  {
   "cell_type": "markdown",
   "metadata": {},
   "source": [
    "The environments corresponding to both versions of the environment are already saved in the Workspace and can be accessed at the file paths provided below.  \n",
    "\n",
    "Please select one of the two options below for loading the environment."
   ]
  },
  {
   "cell_type": "code",
   "execution_count": 2,
   "metadata": {},
   "outputs": [
    {
     "name": "stderr",
     "output_type": "stream",
     "text": [
      "INFO:unityagents:\n",
      "'Academy' started successfully!\n",
      "Unity Academy name: Academy\n",
      "        Number of Brains: 1\n",
      "        Number of External Brains : 1\n",
      "        Lesson number : 0\n",
      "        Reset Parameters :\n",
      "\t\tgoal_size -> 5.0\n",
      "\t\tgoal_speed -> 1.0\n",
      "Unity brain name: ReacherBrain\n",
      "        Number of Visual Observations (per agent): 0\n",
      "        Vector Observation space type: continuous\n",
      "        Vector Observation space size (per agent): 33\n",
      "        Number of stacked Vector Observation: 1\n",
      "        Vector Action space type: continuous\n",
      "        Vector Action space size (per agent): 4\n",
      "        Vector Action descriptions: , , , \n"
     ]
    }
   ],
   "source": [
    "from unityagents import UnityEnvironment\n",
    "import numpy as np\n",
    "import pandas as pd \n",
    "from collections import deque\n",
    "import torch\n",
    "from ddpg_agent import Agent\n",
    "import matplotlib.pyplot as plt\n",
    "%matplotlib inline\n",
    "\n",
    "# select this option to load version 1 (with a single agent) of the environment\n",
    "#env = UnityEnvironment(file_name='/data/Reacher_One_Linux_NoVis/Reacher_One_Linux_NoVis.x86_64')\n",
    "\n",
    "# select this option to load version 2 (with 20 agents) of the environment\n",
    "env = UnityEnvironment(file_name='/data/Reacher_Linux_NoVis/Reacher.x86_64')"
   ]
  },
  {
   "cell_type": "markdown",
   "metadata": {},
   "source": [
    "Environments contain **_brains_** which are responsible for deciding the actions of their associated agents. Here we check for the first brain available, and set it as the default brain we will be controlling from Python."
   ]
  },
  {
   "cell_type": "code",
   "execution_count": 3,
   "metadata": {},
   "outputs": [],
   "source": [
    "# get the default brain\n",
    "brain_name = env.brain_names[0]\n",
    "brain = env.brains[brain_name]"
   ]
  },
  {
   "cell_type": "markdown",
   "metadata": {},
   "source": [
    "### 2. Examine the State and Action Spaces\n",
    "\n",
    "In this environment, a double-jointed arm can move to target locations. A reward of `+0.1` is provided for each step that the agent's hand is in the goal location. Thus, the goal of your agent is to maintain its position at the target location for as many time steps as possible.\n",
    "\n",
    "The observation space consists of `33` variables corresponding to position, rotation, velocity, and angular velocities of the arm.  Each action is a vector with four numbers, corresponding to torque applicable to two joints.  Every entry in the action vector must be a number between `-1` and `1`.\n",
    "\n",
    "Run the code cell below to print some information about the environment."
   ]
  },
  {
   "cell_type": "code",
   "execution_count": 4,
   "metadata": {},
   "outputs": [
    {
     "name": "stdout",
     "output_type": "stream",
     "text": [
      "Number of agents: 20\n",
      "Size of each action: 4\n",
      "There are 20 agents. Each observes a state with length: 33\n",
      "The state for the first agent looks like: [  0.00000000e+00  -4.00000000e+00   0.00000000e+00   1.00000000e+00\n",
      "  -0.00000000e+00  -0.00000000e+00  -4.37113883e-08   0.00000000e+00\n",
      "   0.00000000e+00   0.00000000e+00   0.00000000e+00   0.00000000e+00\n",
      "   0.00000000e+00   0.00000000e+00  -1.00000000e+01   0.00000000e+00\n",
      "   1.00000000e+00  -0.00000000e+00  -0.00000000e+00  -4.37113883e-08\n",
      "   0.00000000e+00   0.00000000e+00   0.00000000e+00   0.00000000e+00\n",
      "   0.00000000e+00   0.00000000e+00   5.75471878e+00  -1.00000000e+00\n",
      "   5.55726624e+00   0.00000000e+00   1.00000000e+00   0.00000000e+00\n",
      "  -1.68164849e-01]\n"
     ]
    }
   ],
   "source": [
    "# reset the environment\n",
    "env_info = env.reset(train_mode=True)[brain_name]\n",
    "\n",
    "# number of agents\n",
    "num_agents = len(env_info.agents)\n",
    "print('Number of agents:', num_agents)\n",
    "\n",
    "# size of each action\n",
    "action_size = brain.vector_action_space_size\n",
    "print('Size of each action:', action_size)\n",
    "\n",
    "# examine the state space \n",
    "states = env_info.vector_observations\n",
    "state_size = states.shape[1]\n",
    "print('There are {} agents. Each observes a state with length: {}'.format(states.shape[0], state_size))\n",
    "print('The state for the first agent looks like:', states[0])"
   ]
  },
  {
   "cell_type": "markdown",
   "metadata": {},
   "source": [
    "## Solution\n",
    "\n",
    "Now it's your turn to train your own agent to solve the environment!  When training the environment, set `train_mode=True`, so that the line for resetting the environment looks like the following:\n",
    "```python\n",
    "env_info = env.reset(train_mode=True)[brain_name]\n",
    "```"
   ]
  },
  {
   "cell_type": "code",
   "execution_count": 5,
   "metadata": {},
   "outputs": [],
   "source": [
    "def ddpg_train(target_score=30, n_episodes=300, learn_every=20, print_every=10, max_t=1000):\n",
    "    \"\"\"Deep Deterministic Policy Gradients (DDPG).\n",
    "    \n",
    "    \"\"\"\n",
    "    scores = []                                  \n",
    "    scores_deque = deque(maxlen=100)\n",
    "    \n",
    "    for i_episode in range(1, n_episodes+1):\n",
    "        env_info = env.reset(train_mode=True)[brain_name]     # reset the environment    \n",
    "        states = env_info.vector_observations                 # get the current state (for each agent)\n",
    "        score = np.zeros(num_agents)                          # initialize scores (for each agent)\n",
    "        agent.reset()                                         # reset noise\n",
    "        \n",
    "        # generate trajectories\n",
    "        for t in range(max_t):\n",
    "            # act\n",
    "            actions = agent.act(states, add_noise=True)       # select action based on the current policy\n",
    "            env_info = env.step(actions)[brain_name]          # interact with the environment\n",
    "            \n",
    "            # observe\n",
    "            next_states = env_info.vector_observations        # get next state (for each agent)\n",
    "            rewards = env_info.rewards                        # get reward (for each agent)\n",
    "            dones = env_info.local_done                       # see if episode finished (for each agent)\n",
    "\n",
    "            # add trajectories to replay buffer\n",
    "            for (state, action, reward, next_state, done) in zip(states, actions, rewards, next_states, dones):\n",
    "                agent.step(state, action, reward, next_state, done)\n",
    "                \n",
    "            # invoke training every 'learn_every' time steps\n",
    "            if t%learn_every==0:\n",
    "                for _ in range(10): \n",
    "                    agent.invoke_training()                    # train 10 times\n",
    "            \n",
    "            score += rewards                                   # update scores (for each agent)\n",
    "            states = next_states                               # roll over states to next time step\n",
    "            \n",
    "            # start next episode if any agent is done\n",
    "            if np.any(dones):\n",
    "                break\n",
    "        \n",
    "        # book keeping\n",
    "        scores.append(np.mean(score))\n",
    "        scores_deque.append(np.mean(score))   # Append the score to score deque\n",
    "\n",
    "        # print training status\n",
    "        if i_episode%print_every==0:\n",
    "            print('\\rEpisode {}\\tAverage Score: {:.2f}\\tScore: {:.2f}'\n",
    "              .format(i_episode, np.mean(scores[-100:]), np.mean(score)))\n",
    "        \n",
    "        # training finished when target performance reached\n",
    "        if np.mean(scores_deque) >= 30.0:  #Check for desired mean score from deque\n",
    "            print('\\nEnvironment solved in {:d} episodes... Average Score: {:.2f}'.format(i_episode, np.mean(scores_deque)))\n",
    "            torch.save(agent.actor_local.state_dict(), 'checkpoint_actor.pth')\n",
    "            torch.save(agent.critic_local.state_dict(), 'checkpoint_critic.pth')\n",
    "            break\n",
    "        \n",
    "    return scores\n",
    "         "
   ]
  },
  {
   "cell_type": "markdown",
   "metadata": {},
   "source": [
    "### Training the agent"
   ]
  },
  {
   "cell_type": "code",
   "execution_count": 6,
   "metadata": {},
   "outputs": [
    {
     "name": "stdout",
     "output_type": "stream",
     "text": [
      "cuda:0\n"
     ]
    }
   ],
   "source": [
    "# initialize the agent\n",
    "agent = Agent(state_size=state_size, action_size=action_size, random_seed=7)"
   ]
  },
  {
   "cell_type": "code",
   "execution_count": 7,
   "metadata": {},
   "outputs": [
    {
     "name": "stderr",
     "output_type": "stream",
     "text": [
      "/home/workspace/ddpg_agent.py:107: UserWarning: torch.nn.utils.clip_grad_norm is now deprecated in favor of torch.nn.utils.clip_grad_norm_.\n",
      "  torch.nn.utils.clip_grad_norm(self.critic_local.parameters(), 1)\n"
     ]
    },
    {
     "name": "stdout",
     "output_type": "stream",
     "text": [
      "Episode 1\tAverage Score: 0.04\tScore: 0.04\n",
      "Episode 2\tAverage Score: 0.03\tScore: 0.01\n",
      "Episode 3\tAverage Score: 0.02\tScore: 0.02\n",
      "Episode 4\tAverage Score: 0.02\tScore: 0.02\n",
      "Episode 5\tAverage Score: 0.03\tScore: 0.07\n",
      "Episode 6\tAverage Score: 0.03\tScore: 0.05\n",
      "Episode 7\tAverage Score: 0.03\tScore: 0.03\n",
      "Episode 8\tAverage Score: 0.04\tScore: 0.08\n",
      "Episode 9\tAverage Score: 0.04\tScore: 0.06\n",
      "Episode 10\tAverage Score: 0.05\tScore: 0.08\n",
      "Episode 11\tAverage Score: 0.05\tScore: 0.12\n",
      "Episode 12\tAverage Score: 0.06\tScore: 0.17\n",
      "Episode 13\tAverage Score: 0.06\tScore: 0.06\n",
      "Episode 14\tAverage Score: 0.06\tScore: 0.07\n",
      "Episode 15\tAverage Score: 0.07\tScore: 0.16\n",
      "Episode 16\tAverage Score: 0.07\tScore: 0.13\n",
      "Episode 17\tAverage Score: 0.07\tScore: 0.09\n",
      "Episode 18\tAverage Score: 0.07\tScore: 0.08\n",
      "Episode 19\tAverage Score: 0.09\tScore: 0.32\n",
      "Episode 20\tAverage Score: 0.09\tScore: 0.08\n",
      "Episode 21\tAverage Score: 0.09\tScore: 0.11\n",
      "Episode 22\tAverage Score: 0.10\tScore: 0.29\n",
      "Episode 23\tAverage Score: 0.10\tScore: 0.16\n",
      "Episode 24\tAverage Score: 0.10\tScore: 0.08\n",
      "Episode 25\tAverage Score: 0.10\tScore: 0.20\n",
      "Episode 26\tAverage Score: 0.13\tScore: 0.68\n",
      "Episode 27\tAverage Score: 0.15\tScore: 0.87\n",
      "Episode 28\tAverage Score: 0.16\tScore: 0.47\n",
      "Episode 29\tAverage Score: 0.18\tScore: 0.59\n",
      "Episode 30\tAverage Score: 0.20\tScore: 0.73\n",
      "Episode 31\tAverage Score: 0.21\tScore: 0.53\n",
      "Episode 32\tAverage Score: 0.22\tScore: 0.67\n",
      "Episode 33\tAverage Score: 0.25\tScore: 1.06\n",
      "Episode 34\tAverage Score: 0.27\tScore: 0.86\n",
      "Episode 35\tAverage Score: 0.29\tScore: 1.00\n",
      "Episode 36\tAverage Score: 0.30\tScore: 0.88\n",
      "Episode 37\tAverage Score: 0.32\tScore: 1.01\n",
      "Episode 38\tAverage Score: 0.35\tScore: 1.25\n",
      "Episode 39\tAverage Score: 0.35\tScore: 0.59\n",
      "Episode 40\tAverage Score: 0.37\tScore: 1.19\n",
      "Episode 41\tAverage Score: 0.39\tScore: 1.05\n",
      "Episode 42\tAverage Score: 0.42\tScore: 1.52\n",
      "Episode 43\tAverage Score: 0.44\tScore: 1.53\n",
      "Episode 44\tAverage Score: 0.47\tScore: 1.52\n",
      "Episode 45\tAverage Score: 0.49\tScore: 1.39\n",
      "Episode 46\tAverage Score: 0.52\tScore: 1.79\n",
      "Episode 47\tAverage Score: 0.54\tScore: 1.53\n",
      "Episode 48\tAverage Score: 0.56\tScore: 1.79\n",
      "Episode 49\tAverage Score: 0.58\tScore: 1.54\n",
      "Episode 50\tAverage Score: 0.61\tScore: 1.91\n",
      "Episode 51\tAverage Score: 0.63\tScore: 1.81\n",
      "Episode 52\tAverage Score: 0.66\tScore: 1.84\n",
      "Episode 53\tAverage Score: 0.68\tScore: 1.88\n",
      "Episode 54\tAverage Score: 0.70\tScore: 1.84\n",
      "Episode 55\tAverage Score: 0.73\tScore: 2.05\n",
      "Episode 56\tAverage Score: 0.75\tScore: 1.99\n",
      "Episode 57\tAverage Score: 0.77\tScore: 2.01\n",
      "Episode 58\tAverage Score: 0.79\tScore: 1.77\n",
      "Episode 59\tAverage Score: 0.80\tScore: 1.41\n",
      "Episode 60\tAverage Score: 0.82\tScore: 1.87\n",
      "Episode 61\tAverage Score: 0.84\tScore: 2.07\n",
      "Episode 62\tAverage Score: 0.85\tScore: 1.83\n",
      "Episode 63\tAverage Score: 0.87\tScore: 1.73\n",
      "Episode 64\tAverage Score: 0.89\tScore: 2.02\n",
      "Episode 65\tAverage Score: 0.93\tScore: 4.00\n",
      "Episode 66\tAverage Score: 0.98\tScore: 4.19\n",
      "Episode 67\tAverage Score: 1.04\tScore: 5.14\n",
      "Episode 68\tAverage Score: 1.09\tScore: 4.20\n",
      "Episode 69\tAverage Score: 1.15\tScore: 5.26\n",
      "Episode 70\tAverage Score: 1.20\tScore: 4.71\n",
      "Episode 71\tAverage Score: 1.27\tScore: 6.12\n",
      "Episode 72\tAverage Score: 1.34\tScore: 6.21\n",
      "Episode 73\tAverage Score: 1.42\tScore: 6.91\n",
      "Episode 74\tAverage Score: 1.47\tScore: 5.47\n",
      "Episode 75\tAverage Score: 1.54\tScore: 6.65\n",
      "Episode 76\tAverage Score: 1.62\tScore: 7.30\n",
      "Episode 77\tAverage Score: 1.71\tScore: 8.90\n",
      "Episode 78\tAverage Score: 1.79\tScore: 8.01\n",
      "Episode 79\tAverage Score: 1.86\tScore: 7.33\n",
      "Episode 80\tAverage Score: 1.94\tScore: 8.51\n",
      "Episode 81\tAverage Score: 2.03\tScore: 9.06\n",
      "Episode 82\tAverage Score: 2.12\tScore: 9.26\n",
      "Episode 83\tAverage Score: 2.21\tScore: 9.48\n",
      "Episode 84\tAverage Score: 2.31\tScore: 10.39\n",
      "Episode 85\tAverage Score: 2.41\tScore: 10.99\n",
      "Episode 86\tAverage Score: 2.50\tScore: 10.45\n",
      "Episode 87\tAverage Score: 2.62\tScore: 12.34\n",
      "Episode 88\tAverage Score: 2.72\tScore: 11.65\n",
      "Episode 89\tAverage Score: 2.82\tScore: 11.84\n",
      "Episode 90\tAverage Score: 2.92\tScore: 11.66\n",
      "Episode 91\tAverage Score: 3.03\tScore: 12.88\n",
      "Episode 92\tAverage Score: 3.16\tScore: 14.93\n",
      "Episode 93\tAverage Score: 3.28\tScore: 14.35\n",
      "Episode 94\tAverage Score: 3.41\tScore: 15.33\n",
      "Episode 95\tAverage Score: 3.54\tScore: 16.33\n",
      "Episode 96\tAverage Score: 3.67\tScore: 15.49\n",
      "Episode 97\tAverage Score: 3.81\tScore: 17.23\n",
      "Episode 98\tAverage Score: 3.93\tScore: 15.91\n",
      "Episode 99\tAverage Score: 4.07\tScore: 17.63\n",
      "Episode 100\tAverage Score: 4.22\tScore: 18.75\n",
      "Episode 101\tAverage Score: 4.41\tScore: 19.18\n",
      "Episode 102\tAverage Score: 4.60\tScore: 19.16\n",
      "Episode 103\tAverage Score: 4.79\tScore: 19.67\n",
      "Episode 104\tAverage Score: 5.01\tScore: 21.85\n",
      "Episode 105\tAverage Score: 5.22\tScore: 20.95\n",
      "Episode 106\tAverage Score: 5.44\tScore: 21.68\n",
      "Episode 107\tAverage Score: 5.67\tScore: 23.32\n",
      "Episode 108\tAverage Score: 5.89\tScore: 21.51\n",
      "Episode 109\tAverage Score: 6.12\tScore: 23.74\n",
      "Episode 110\tAverage Score: 6.36\tScore: 23.99\n",
      "Episode 111\tAverage Score: 6.62\tScore: 25.80\n",
      "Episode 112\tAverage Score: 6.88\tScore: 26.06\n",
      "Episode 113\tAverage Score: 7.13\tScore: 25.08\n",
      "Episode 114\tAverage Score: 7.38\tScore: 25.47\n",
      "Episode 115\tAverage Score: 7.65\tScore: 26.81\n",
      "Episode 116\tAverage Score: 7.93\tScore: 28.07\n",
      "Episode 117\tAverage Score: 8.20\tScore: 27.39\n",
      "Episode 118\tAverage Score: 8.48\tScore: 28.40\n",
      "Episode 119\tAverage Score: 8.76\tScore: 28.43\n",
      "Episode 120\tAverage Score: 9.05\tScore: 29.01\n",
      "Episode 121\tAverage Score: 9.34\tScore: 28.57\n",
      "Episode 122\tAverage Score: 9.62\tScore: 28.46\n",
      "Episode 123\tAverage Score: 9.93\tScore: 30.91\n",
      "Episode 124\tAverage Score: 10.22\tScore: 29.21\n",
      "Episode 125\tAverage Score: 10.55\tScore: 33.72\n",
      "Episode 126\tAverage Score: 10.88\tScore: 33.07\n",
      "Episode 127\tAverage Score: 11.18\tScore: 31.50\n",
      "Episode 128\tAverage Score: 11.50\tScore: 31.97\n",
      "Episode 129\tAverage Score: 11.80\tScore: 30.42\n",
      "Episode 130\tAverage Score: 12.11\tScore: 32.12\n",
      "Episode 131\tAverage Score: 12.43\tScore: 32.05\n",
      "Episode 132\tAverage Score: 12.75\tScore: 33.24\n",
      "Episode 133\tAverage Score: 13.05\tScore: 31.22\n",
      "Episode 134\tAverage Score: 13.38\tScore: 33.86\n",
      "Episode 135\tAverage Score: 13.71\tScore: 33.61\n",
      "Episode 136\tAverage Score: 14.06\tScore: 35.62\n",
      "Episode 137\tAverage Score: 14.38\tScore: 33.09\n",
      "Episode 138\tAverage Score: 14.71\tScore: 34.04\n",
      "Episode 139\tAverage Score: 15.04\tScore: 34.29\n",
      "Episode 140\tAverage Score: 15.37\tScore: 34.37\n",
      "Episode 141\tAverage Score: 15.71\tScore: 34.16\n",
      "Episode 142\tAverage Score: 16.03\tScore: 33.89\n",
      "Episode 143\tAverage Score: 16.36\tScore: 34.99\n",
      "Episode 144\tAverage Score: 16.70\tScore: 34.72\n",
      "Episode 145\tAverage Score: 17.02\tScore: 33.74\n",
      "Episode 146\tAverage Score: 17.35\tScore: 34.47\n",
      "Episode 147\tAverage Score: 17.67\tScore: 33.84\n",
      "Episode 148\tAverage Score: 18.00\tScore: 34.87\n",
      "Episode 149\tAverage Score: 18.33\tScore: 34.99\n",
      "Episode 150\tAverage Score: 18.68\tScore: 36.19\n",
      "Episode 151\tAverage Score: 19.02\tScore: 35.56\n",
      "Episode 152\tAverage Score: 19.34\tScore: 34.76\n",
      "Episode 153\tAverage Score: 19.68\tScore: 35.20\n",
      "Episode 154\tAverage Score: 20.01\tScore: 34.77\n",
      "Episode 155\tAverage Score: 20.35\tScore: 36.20\n",
      "Episode 156\tAverage Score: 20.68\tScore: 35.48\n",
      "Episode 157\tAverage Score: 21.02\tScore: 35.96\n",
      "Episode 158\tAverage Score: 21.36\tScore: 35.07\n",
      "Episode 159\tAverage Score: 21.69\tScore: 35.14\n",
      "Episode 160\tAverage Score: 22.04\tScore: 36.28\n",
      "Episode 161\tAverage Score: 22.37\tScore: 35.78\n",
      "Episode 162\tAverage Score: 22.72\tScore: 36.46\n",
      "Episode 163\tAverage Score: 23.07\tScore: 37.05\n",
      "Episode 164\tAverage Score: 23.42\tScore: 37.00\n",
      "Episode 165\tAverage Score: 23.74\tScore: 35.67\n",
      "Episode 166\tAverage Score: 24.07\tScore: 36.98\n",
      "Episode 167\tAverage Score: 24.37\tScore: 35.06\n",
      "Episode 168\tAverage Score: 24.67\tScore: 33.96\n",
      "Episode 169\tAverage Score: 24.98\tScore: 36.47\n",
      "Episode 170\tAverage Score: 25.29\tScore: 36.34\n",
      "Episode 171\tAverage Score: 25.59\tScore: 35.51\n",
      "Episode 172\tAverage Score: 25.90\tScore: 36.99\n",
      "Episode 173\tAverage Score: 26.18\tScore: 35.65\n",
      "Episode 174\tAverage Score: 26.49\tScore: 36.28\n",
      "Episode 175\tAverage Score: 26.78\tScore: 35.82\n",
      "Episode 176\tAverage Score: 27.06\tScore: 35.07\n",
      "Episode 177\tAverage Score: 27.33\tScore: 35.81\n",
      "Episode 178\tAverage Score: 27.61\tScore: 36.01\n",
      "Episode 179\tAverage Score: 27.90\tScore: 36.62\n",
      "Episode 180\tAverage Score: 28.18\tScore: 36.56\n",
      "Episode 181\tAverage Score: 28.45\tScore: 36.12\n",
      "Episode 182\tAverage Score: 28.72\tScore: 36.38\n",
      "Episode 183\tAverage Score: 28.99\tScore: 36.00\n",
      "Episode 184\tAverage Score: 29.26\tScore: 37.24\n",
      "Episode 185\tAverage Score: 29.52\tScore: 36.89\n"
     ]
    },
    {
     "name": "stdout",
     "output_type": "stream",
     "text": [
      "Episode 186\tAverage Score: 29.78\tScore: 36.26\n",
      "Episode 187\tAverage Score: 30.00\tScore: 35.28\n",
      "\n",
      "Environment solved in 187 episodes... Average Score: 30.00\n"
     ]
    }
   ],
   "source": [
    "# run training\n",
    "scores=ddpg_train(target_score=30, n_episodes=500, learn_every=20, print_every=1)"
   ]
  },
  {
   "cell_type": "markdown",
   "metadata": {},
   "source": [
    "### Results"
   ]
  },
  {
   "cell_type": "code",
   "execution_count": 8,
   "metadata": {},
   "outputs": [
    {
     "data": {
      "image/png": "[encoded data removed]",
      "text/plain": [
       "<matplotlib.figure.Figure at 0x7f4b1a0c2080>"
      ]
     },
     "metadata": {
      "needs_background": "light"
     },
     "output_type": "display_data"
    }
   ],
   "source": [
    "sma_window=10  #Simple Moving Average rolling window\n",
    "series: pd.Series = pd.Series(scores)\n",
    "window = series.rolling(window=sma_window)\n",
    "scores_sma: pd.Series = window.mean()\n",
    "\n",
    "# plot the scores\n",
    "fig = plt.figure(figsize=(12, 5))\n",
    "\n",
    "plot1 = fig.add_subplot(121)\n",
    "plot1.plot(np.arange(len(scores)), scores)\n",
    "plot1.set_ylabel('Score')\n",
    "plot1.set_xlabel('Episode #')\n",
    "plot1.set_title(\"Raw scores\")\n",
    "plot1.grid()\n",
    "\n",
    "plot2 = fig.add_subplot(122)\n",
    "plot2.plot(np.arange(len(scores_sma)), scores_sma)\n",
    "plot2.set_ylabel('Score')\n",
    "plot2.set_xlabel('Episode #')\n",
    "plot2.set_title(f\"Moving Average(window={sma_window})\")\n",
    "plot2.grid()\n",
    "   \n",
    "plt.show()"
   ]
  },
  {
   "cell_type": "markdown",
   "metadata": {},
   "source": [
    "### Let the trained agent interact with the environment"
   ]
  },
  {
   "cell_type": "code",
   "execution_count": 9,
   "metadata": {},
   "outputs": [],
   "source": [
    "# restore saved agent\n",
    "agent.actor_local.load_state_dict(torch.load('checkpoint_actor.pth'))\n",
    "agent.critic_local.load_state_dict(torch.load('checkpoint_critic.pth'))"
   ]
  },
  {
   "cell_type": "code",
   "execution_count": 10,
   "metadata": {},
   "outputs": [
    {
     "name": "stdout",
     "output_type": "stream",
     "text": [
      "Total score (averaged over agents) this episode: 38.86049913140014\n"
     ]
    }
   ],
   "source": [
    "env_info = env.reset(train_mode=False)[brain_name]     # reset the environment    \n",
    "states = env_info.vector_observations                  # get the current state (for each agent)\n",
    "scores = np.zeros(num_agents)                          # initialize the score (for each agent)\n",
    "agent.reset()\n",
    "while True:\n",
    "    actions = agent.act(state=states, add_noise=False)                  # select an action (for each agent)\n",
    "    env_info = env.step(actions)[brain_name]           # send all actions to tne environment\n",
    "    next_states = env_info.vector_observations         # get next state (for each agent)\n",
    "    rewards = env_info.rewards                         # get reward (for each agent)\n",
    "    dones = env_info.local_done                        # see if episode finished\n",
    "    scores += env_info.rewards                         # update the score (for each agent)\n",
    "    states = next_states                               # roll over states to next time step\n",
    "    if np.any(dones):                                  # exit loop if episode finished\n",
    "        break\n",
    "\n",
    "print('Total score (averaged over agents) this episode: {}'.format(np.mean(scores)))"
   ]
  },
  {
   "cell_type": "code",
   "execution_count": 11,
   "metadata": {},
   "outputs": [],
   "source": [
    "env.close()"
   ]
  },
  {
   "cell_type": "code",
   "execution_count": null,
   "metadata": {},
   "outputs": [],
   "source": []
  }
 ],
 "metadata": {
  "kernelspec": {
   "display_name": "Python 3",
   "language": "python",
   "name": "python3"
  },
  "language_info": {
   "codemirror_mode": {
    "name": "ipython",
    "version": 3
   },
   "file_extension": ".py",
   "mimetype": "text/x-python",
   "name": "python",
   "nbconvert_exporter": "python",
   "pygments_lexer": "ipython3",
   "version": "3.6.3"
  }
 },
 "nbformat": 4,
 "nbformat_minor": 2
}
